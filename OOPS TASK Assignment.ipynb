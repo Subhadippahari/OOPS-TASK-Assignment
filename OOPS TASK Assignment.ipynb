{
 "cells": [
  {
   "cell_type": "markdown",
   "id": "5a057db5-0663-46e0-b32d-991493b2660a",
   "metadata": {},
   "source": [
    "Q1, Create a vehicle class with an init method having instance variables as name_of_vehicle, max_speed\n",
    "and average_of_vehicle."
   ]
  },
  {
   "cell_type": "code",
   "execution_count": 14,
   "id": "c9d88dda-8a55-4198-abdb-31e8a0aa3782",
   "metadata": {},
   "outputs": [],
   "source": [
    "class vehical:\n",
    "    def __init__(self,name_of_vehicle,max_speed,average_of_vehicle):\n",
    "        self.name_of_vehicle=name_of_vehicle\n",
    "        self.max_speed=max_speed\n",
    "        self.average_of_vehicle=average_of_vehicle"
   ]
  },
  {
   "cell_type": "markdown",
   "id": "c0329148-7ef5-4e04-b819-e0ea645a628b",
   "metadata": {},
   "source": [
    "Q2. Create a child class car from the vehicle class created in Que 1, which will inherit the vehicle class.\n",
    "Create a method named seating_capacity which takes capacity as an argument and returns the name of\n",
    "the vehicle and its seating capacity."
   ]
  },
  {
   "cell_type": "code",
   "execution_count": 28,
   "id": "b8c0c03a-386b-4757-b682-81ee567b049d",
   "metadata": {},
   "outputs": [],
   "source": [
    "class car(vehical):\n",
    "    pass"
   ]
  },
  {
   "cell_type": "code",
   "execution_count": 31,
   "id": "4beb9386-4c18-4c39-b1ce-d568227734e1",
   "metadata": {},
   "outputs": [],
   "source": [
    "my_car=car(\"Jaguar\",250,165)"
   ]
  },
  {
   "cell_type": "code",
   "execution_count": 32,
   "id": "3b2b2096-2823-4822-9b64-13da3193c9bd",
   "metadata": {},
   "outputs": [
    {
     "data": {
      "text/plain": [
       "'Jaguar'"
      ]
     },
     "execution_count": 32,
     "metadata": {},
     "output_type": "execute_result"
    }
   ],
   "source": [
    "my_car.name_of_vehicle"
   ]
  },
  {
   "cell_type": "code",
   "execution_count": 38,
   "id": "932d9bde-1a1d-43da-a216-7a96636e5d2b",
   "metadata": {},
   "outputs": [],
   "source": [
    "class seating_capacity:\n",
    "    def __init__(capacity,name_of_the_vehicle,sitting_capacity):\n",
    "        capacity.name_of_the_vehicle=name_of_the_vehicle\n",
    "        capacity.sitting_capacity=sitting_capacity\n",
    "    def my_car_details(capacity):\n",
    "        return capacity.name_of_the_vehicle,capacity.sitting_capacity"
   ]
  },
  {
   "cell_type": "code",
   "execution_count": 33,
   "id": "b2a6d087-26c5-4451-8d6a-67a129f15f20",
   "metadata": {},
   "outputs": [],
   "source": [
    "my_car=seating_capacity(\"Jaguar\",7)"
   ]
  },
  {
   "cell_type": "code",
   "execution_count": 35,
   "id": "367c6455-4179-4dca-a484-90ead8990e18",
   "metadata": {},
   "outputs": [
    {
     "data": {
      "text/plain": [
       "('Jaguar', 7)"
      ]
     },
     "execution_count": 35,
     "metadata": {},
     "output_type": "execute_result"
    }
   ],
   "source": [
    "my_car.my_car_details()"
   ]
  },
  {
   "cell_type": "markdown",
   "id": "992ad1da-d9a1-4c4b-929f-2da0eb9465f8",
   "metadata": {},
   "source": [
    "Q3. What is multiple inheritance? Write a python code to demonstrate multiple inheritance."
   ]
  },
  {
   "cell_type": "markdown",
   "id": "41a5aaab-5dbd-41bc-93ac-9cb7f40a4e00",
   "metadata": {},
   "source": [
    "When a class is derived from more than one base class it is called multiple Inheritance."
   ]
  },
  {
   "cell_type": "code",
   "execution_count": 53,
   "id": "c46cde67-c5dc-42ff-bb23-baa6940fb155",
   "metadata": {},
   "outputs": [],
   "source": [
    "class subha:\n",
    "    def first_name(self):\n",
    "        return\"Subha\""
   ]
  },
  {
   "cell_type": "code",
   "execution_count": 54,
   "id": "7b7b0e2c-62bf-4687-b83f-3a38e4a0b45b",
   "metadata": {},
   "outputs": [],
   "source": [
    "class dip:\n",
    "    def mid_name(self):\n",
    "        return\"dip\""
   ]
  },
  {
   "cell_type": "code",
   "execution_count": 55,
   "id": "60e1cff6-ba76-4ef5-813a-4f89da63a577",
   "metadata": {},
   "outputs": [],
   "source": [
    "class pahari:\n",
    "    def last_name(self):\n",
    "        return\"Pahari\""
   ]
  },
  {
   "cell_type": "code",
   "execution_count": 56,
   "id": "e935a7e0-e774-449d-8e3a-df12e519fa23",
   "metadata": {},
   "outputs": [],
   "source": [
    "class my_name(subha,dip,pahari):\n",
    "    pass"
   ]
  },
  {
   "cell_type": "code",
   "execution_count": 60,
   "id": "9aee8bfb-ba45-4f6d-b551-0538048b86b7",
   "metadata": {},
   "outputs": [],
   "source": [
    "my_name=my_name()"
   ]
  },
  {
   "cell_type": "code",
   "execution_count": 61,
   "id": "222af724-8991-4b36-b6ca-9a354faaa427",
   "metadata": {},
   "outputs": [
    {
     "data": {
      "text/plain": [
       "'Subha'"
      ]
     },
     "execution_count": 61,
     "metadata": {},
     "output_type": "execute_result"
    }
   ],
   "source": [
    "my_name.first_name()"
   ]
  },
  {
   "cell_type": "code",
   "execution_count": 62,
   "id": "d12f87dc-640d-4bfe-9c6f-af517d1bc589",
   "metadata": {},
   "outputs": [
    {
     "data": {
      "text/plain": [
       "'dip'"
      ]
     },
     "execution_count": 62,
     "metadata": {},
     "output_type": "execute_result"
    }
   ],
   "source": [
    "my_name.mid_name()"
   ]
  },
  {
   "cell_type": "code",
   "execution_count": 63,
   "id": "3017e3ad-a040-4ad9-90a6-d697860c716f",
   "metadata": {},
   "outputs": [
    {
     "data": {
      "text/plain": [
       "'Pahari'"
      ]
     },
     "execution_count": 63,
     "metadata": {},
     "output_type": "execute_result"
    }
   ],
   "source": [
    "my_name.last_name()"
   ]
  },
  {
   "cell_type": "markdown",
   "id": "fc4fd9f9-c633-4d32-8881-9b99cafbc373",
   "metadata": {},
   "source": [
    "Q4. What are getter and setter in python? Create a class and create a getter and a setter method in this\n",
    "class."
   ]
  },
  {
   "cell_type": "markdown",
   "id": "ca109e1d-1e8c-4cde-ba67-93b3040a8d20",
   "metadata": {},
   "source": [
    "Getter: A method that allows you to access an attribute in a given class. Setter: A method that allows you to set or mutate the value of an attribute in a class."
   ]
  },
  {
   "cell_type": "code",
   "execution_count": 71,
   "id": "d9d4474c-a03f-443d-a552-4652edbad16d",
   "metadata": {},
   "outputs": [],
   "source": [
    "class bank_account:\n",
    "    def __init__(self,amount):\n",
    "        self.__amount=amount\n",
    "    def deposit(self,amount):\n",
    "        self.__amount=self.__amount+amount\n",
    "    def widrawl(self,amount):\n",
    "        if self.__amount>=amount:\n",
    "            self.__amount=self.__amount-amount\n",
    "            return\"Please collect your cash\"\n",
    "        else:\n",
    "            return\"No sufficient balance available\"\n",
    "    def available_balance(self):\n",
    "        return self.__amount"
   ]
  },
  {
   "cell_type": "code",
   "execution_count": 72,
   "id": "7b66da04-8fde-4854-9876-517c734429dc",
   "metadata": {},
   "outputs": [],
   "source": [
    "my_account=bank_account(1000)"
   ]
  },
  {
   "cell_type": "code",
   "execution_count": 73,
   "id": "56bd73e2-3b31-4c52-9047-d1a711e4e081",
   "metadata": {},
   "outputs": [
    {
     "data": {
      "text/plain": [
       "'No sufficient balance available'"
      ]
     },
     "execution_count": 73,
     "metadata": {},
     "output_type": "execute_result"
    }
   ],
   "source": [
    "my_account.widrawl(50000)"
   ]
  },
  {
   "cell_type": "code",
   "execution_count": 77,
   "id": "0e1c4ec3-e679-41a2-9446-67f16eeab74e",
   "metadata": {},
   "outputs": [],
   "source": [
    "my_account.deposit(1000004934592426214421641)"
   ]
  },
  {
   "cell_type": "code",
   "execution_count": 75,
   "id": "693add69-b5b8-486d-8053-321b9f132291",
   "metadata": {},
   "outputs": [
    {
     "data": {
      "text/plain": [
       "1000004934592426214422641"
      ]
     },
     "execution_count": 75,
     "metadata": {},
     "output_type": "execute_result"
    }
   ],
   "source": [
    "my_account.available_balance()"
   ]
  },
  {
   "cell_type": "code",
   "execution_count": 84,
   "id": "d98adced-5d5c-4c4e-bba9-e871e45e4746",
   "metadata": {},
   "outputs": [
    {
     "data": {
      "text/plain": [
       "'Please collect your cash'"
      ]
     },
     "execution_count": 84,
     "metadata": {},
     "output_type": "execute_result"
    }
   ],
   "source": [
    "my_account.widrawl(5474847)"
   ]
  },
  {
   "cell_type": "code",
   "execution_count": 85,
   "id": "fdfd6bd9-daa1-48fa-bd49-43b995202c84",
   "metadata": {},
   "outputs": [
    {
     "data": {
      "text/plain": [
       "3000014803777278637791076"
      ]
     },
     "execution_count": 85,
     "metadata": {},
     "output_type": "execute_result"
    }
   ],
   "source": [
    "my_account.available_balance()"
   ]
  },
  {
   "cell_type": "markdown",
   "id": "31729ea1-ffa2-4640-898a-23cf7c77d763",
   "metadata": {},
   "source": [
    "Q5.What is method overriding in python? Write a python code to demonstrate method overriding."
   ]
  },
  {
   "cell_type": "markdown",
   "id": "a8507342-b793-4e20-80ff-747535ccb25e",
   "metadata": {},
   "source": [
    "Method overriding is a feature of object-oriented programming languages where the subclass or child class can provide the program with specific characteristics or a specific implementation process of data provided that are already defined in the parent class or superclass"
   ]
  },
  {
   "cell_type": "code",
   "execution_count": 86,
   "id": "539ab83b-17d7-4241-8d7f-c6989cd7a503",
   "metadata": {},
   "outputs": [],
   "source": [
    "class perent_class:\n",
    "    def perent_class(self):\n",
    "        return\"this is the data of perentclass\""
   ]
  },
  {
   "cell_type": "code",
   "execution_count": 87,
   "id": "247785f7-4260-49cf-a204-5041c5773a3c",
   "metadata": {},
   "outputs": [],
   "source": [
    "class child_class(perent_class):\n",
    "    pass"
   ]
  },
  {
   "cell_type": "code",
   "execution_count": 88,
   "id": "1fa55516-eaf3-4f51-9b6b-95d89c2692c0",
   "metadata": {},
   "outputs": [],
   "source": [
    "a=child_class()"
   ]
  },
  {
   "cell_type": "code",
   "execution_count": 90,
   "id": "4bb1b664-67fe-4c30-be6e-975beeebe2f4",
   "metadata": {},
   "outputs": [
    {
     "data": {
      "text/plain": [
       "'this is the data of perentclass'"
      ]
     },
     "execution_count": 90,
     "metadata": {},
     "output_type": "execute_result"
    }
   ],
   "source": [
    "a.perent_class()"
   ]
  },
  {
   "cell_type": "code",
   "execution_count": null,
   "id": "e934a5d5-6468-46cb-bcda-fe54f58965ea",
   "metadata": {},
   "outputs": [],
   "source": []
  }
 ],
 "metadata": {
  "kernelspec": {
   "display_name": "Python 3 (ipykernel)",
   "language": "python",
   "name": "python3"
  },
  "language_info": {
   "codemirror_mode": {
    "name": "ipython",
    "version": 3
   },
   "file_extension": ".py",
   "mimetype": "text/x-python",
   "name": "python",
   "nbconvert_exporter": "python",
   "pygments_lexer": "ipython3",
   "version": "3.10.8"
  }
 },
 "nbformat": 4,
 "nbformat_minor": 5
}
